{
 "cells": [
  {
   "cell_type": "markdown",
   "metadata": {},
   "source": [
    "# 1. Introduction"
   ]
  },
  {
   "cell_type": "markdown",
   "metadata": {},
   "source": [
    "In this project, we are going to analyse the data fetch from Yelp. Yelp is an app that collects information about restaurants and other business. Its recommendation system will choose the best for customers according to history reviews. We now fetch over 1 million reviews and over 50,000 companies information. In our project, we only focus on the Chinese restaurant.\n",
    "\n",
    "We have two main goals. Firstly, we wanted to provide some practical advice for the business owner. On one hand, we provided suggestions according to the business attributes. We first extracted business attributes and sorted them according to the feature importance in XGBoost. We discussed whether the first few attributes had any influence on business average stars with ANOVA. On the other hand, we analyzed customer reviews. We vectorized preprocessed words. Then group them by 5 features (sanitation, food, waiting time, service, price) by Cosine similarity. Then we count the frequency of each group in each review and normalized them. Finally, we use Earth Mover Distance to measure how these features affect the dining experience. We randomly pick some Chinese restaurants and provide some suggestions by the analysis above.\n",
    "\n",
    "Secondly, we wanted to predict the reviews' star according to the review texts. We tried many methods and finally, we choose the LSTM model. It did a great job and our final RMSE is 0.59."
   ]
  },
  {
   "cell_type": "markdown",
   "metadata": {},
   "source": [
    "# 2. Preliminary Analysis"
   ]
  },
  {
   "cell_type": "markdown",
   "metadata": {},
   "source": []
  },
  {
   "cell_type": "markdown",
   "metadata": {},
   "source": [
    "# 3. Preprocess"
   ]
  },
  {
   "cell_type": "markdown",
   "metadata": {},
   "source": [
    "### 3.1 Attributes"
   ]
  },
  {
   "cell_type": "markdown",
   "metadata": {},
   "source": [
    "We split the category according to the comma. Then pick out the Chinese restaruants. Then for other attributes, we denote all missing value like 'N/A', 'None', empty as one distinct value 'None'."
   ]
  },
  {
   "cell_type": "markdown",
   "metadata": {},
   "source": [
    "### 3.2 Reviews"
   ]
  },
  {
   "cell_type": "markdown",
   "metadata": {},
   "source": [
    "We preprocess the words according to the following steps:\n",
    "1. Remove the reviews that contain non-english characters\n",
    "2. Splite the words according to the white space and other punctuations\n",
    "3. Change the upper-case into lower-case\n",
    "4. Expand the common abbreviation like: wouldn't → would, not\n",
    "5. Remove punctuations\n",
    "6. Delete stopping words, but keep some words like: not"
   ]
  },
  {
   "cell_type": "markdown",
   "metadata": {},
   "source": [
    "# 4. Suggestions for Business"
   ]
  },
  {
   "cell_type": "markdown",
   "metadata": {},
   "source": [
    "### 4.1 Attributes Analysis"
   ]
  },
  {
   "cell_type": "markdown",
   "metadata": {},
   "source": [
    "#### Missing Data"
   ]
  },
  {
   "cell_type": "markdown",
   "metadata": {},
   "source": [
    "For the missing data, we thought they also provide some information. Usually speaking, the missing value means the restaurant does not have such equipment or service. For example, if they do not provide the information about the wifi, they may not have accessible wifi. The restaurant owner may forget to provide such information. In this situation, this feature may not be an advantage of their service, otherwise, they will certainly propagate it to attract customers. And finally, the missing data may be caused by the Yelp database. But it is not the main reason. We cannot distinguish them from others. So we can safely ignore it. Our final decision was to denote them as specific categories called 'None'."
   ]
  },
  {
   "cell_type": "markdown",
   "metadata": {},
   "source": [
    "#### XGBoost"
   ]
  },
  {
   "cell_type": "markdown",
   "metadata": {},
   "source": [
    "After preprocessing the attributes, we used XGBoost to rank the feature importance. XGBoost is a tree-based method that can do classification or regression. Intuitively speaking, XGBoost will first randomly pick one feature and split the tree nodes and then find the best split rule to minimize the regulized objective function. Then it searches all possible features to find the one with the minimum objective function. And the tree grows until the improvement of the objective function does not reach the benchmark. We repeat that process several times. And finally, we combine all leaves of these trees together (usually we sum them up).\n",
    "\n",
    "From the above algorithm, we can see that the XGBoost will certainly first split node with the most important feature. And for those features have a high correlation with the selected feature, XGBoost may not choose them again. It provides us with a method to rank the importance of the attributes."
   ]
  },
  {
   "cell_type": "markdown",
   "metadata": {},
   "source": [
    "We finally choose......."
   ]
  },
  {
   "cell_type": "markdown",
   "metadata": {},
   "source": [
    "#### ANOVA"
   ]
  },
  {
   "cell_type": "markdown",
   "metadata": {},
   "source": [
    "Then we apply ANOVA on the selected attributes."
   ]
  },
  {
   "cell_type": "markdown",
   "metadata": {},
   "source": [
    "### 4.2 Review Analysis"
   ]
  },
  {
   "cell_type": "markdown",
   "metadata": {},
   "source": []
  },
  {
   "cell_type": "markdown",
   "metadata": {},
   "source": [
    "# 5. Predict review stars"
   ]
  },
  {
   "cell_type": "markdown",
   "metadata": {},
   "source": []
  },
  {
   "cell_type": "markdown",
   "metadata": {},
   "source": [
    "# Notebook Contribution\n",
    "Lijie Liu: Introduction, Preprocess, Missing Data, XGBoost  \n",
    "Ning Shen: ANOVA, Preliminary Analysis  \n",
    "Xiangan Zhang: Prediction"
   ]
  },
  {
   "cell_type": "markdown",
   "metadata": {},
   "source": [
    "# Code Contribution\n",
    "Lijie Liu: Word Preprocess, Word Similarity  \n",
    "Ning Shen: ANOVA, Preliminary Analysis  \n",
    "Xiangan Zhang: LSTM prediction, XGBoost, EMD"
   ]
  }
 ],
 "metadata": {
  "kernelspec": {
   "display_name": "Python 3",
   "language": "python",
   "name": "python3"
  },
  "language_info": {
   "codemirror_mode": {
    "name": "ipython",
    "version": 3
   },
   "file_extension": ".py",
   "mimetype": "text/x-python",
   "name": "python",
   "nbconvert_exporter": "python",
   "pygments_lexer": "ipython3",
   "version": "3.7.1"
  }
 },
 "nbformat": 4,
 "nbformat_minor": 2
}
