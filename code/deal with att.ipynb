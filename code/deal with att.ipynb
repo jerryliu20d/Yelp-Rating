{
 "cells": [
  {
   "cell_type": "code",
   "execution_count": null,
   "metadata": {
    "_uuid": "8f2839f25d086af736a60e9eeb907d3b93b6e0e5",
    "_cell_guid": "b1076dfc-b9ad-4769-8c92-a6c4dae69d19",
    "trusted": true
   },
   "outputs": [],
   "source": [
    "# This Python 3 environment comes with many helpful analytics libraries installed\n",
    "# It is defined by the kaggle/python docker image: https://github.com/kaggle/docker-python\n",
    "# For example, here's several helpful packages to load in \n",
    "\n",
    "import numpy as np # linear algebra\n",
    "import pandas as pd # data processing, CSV file I/O (e.g. pd.read_csv)\n",
    "\n",
    "# Input data files are available in the \"../input/\" directory.\n",
    "# For example, running this (by clicking run or pressing Shift+Enter) will list the files in the input directory\n",
    "\n",
    "import os\n",
    "print(os.listdir(\"../input\"))\n",
    "\n",
    "# Any results you write to the current directory are saved as output."
   ]
  },
  {
   "cell_type": "code",
   "execution_count": null,
   "metadata": {
    "_cell_guid": "79c7e3d0-c299-4dcb-8224-4455121ee9b0",
    "_uuid": "d629ff2d2480ee46fbb7e2d37f6b5fab8052498a",
    "trusted": true
   },
   "outputs": [],
   "source": [
    "print(os.listdir(\"../input/aaaaaaaaa\"))\n",
    "print(os.listdir(\"../input/ccccccccc\"))\n",
    "print(os.listdir('../input/dfdfdf/'))"
   ]
  },
  {
   "cell_type": "code",
   "execution_count": null,
   "metadata": {
    "trusted": true,
    "_uuid": "480d29e97a575bc355d1448020a62831d238137c"
   },
   "outputs": [],
   "source": [
    "path_train_bus = \"../input/aaaaaaaaa/business_train.json\"\n",
    "path_test_bus = \"../input/aaaaaaaaa/business_test.json\"\n",
    "path_train_rev = \"../input/ccccccccc/review_train.json\"\n",
    "path_test_rev = \"../input/ccccccccc/review_test.json\"\n",
    "v2h = '../input/dfdfdf/df_hours'\n",
    "v2c = '../input/dfdfdf/df_cat'"
   ]
  },
  {
   "cell_type": "code",
   "execution_count": null,
   "metadata": {
    "trusted": true,
    "_uuid": "04a19c4816d16902d8fc2f8c612e20e3599272e6"
   },
   "outputs": [],
   "source": [
    "bus = pd.read_json(path_train_bus, lines=True, orient=\"columns\")\n",
    "h = pd.read_csv(v2h)\n",
    "c = pd.read_csv(v2c)"
   ]
  },
  {
   "cell_type": "code",
   "execution_count": null,
   "metadata": {
    "trusted": true,
    "_uuid": "16af9aa890d280826d0738c869fea37aaf8d7f3c"
   },
   "outputs": [],
   "source": [
    "import json as js\n",
    "with open(path_train_rev, 'r') as f:\n",
    "    lines = f.readlines()\n",
    "\n",
    "raw = list(map(js.loads, lines))\n",
    "train = pd.DataFrame(raw)"
   ]
  },
  {
   "cell_type": "code",
   "execution_count": null,
   "metadata": {
    "trusted": true,
    "_uuid": "aee895e07e88d72ca5ae8ff0cea70077963d2f0f"
   },
   "outputs": [],
   "source": [
    "bus = pd.read_json(path_train_bus, lines=True, orient=\"columns\")"
   ]
  },
  {
   "cell_type": "code",
   "execution_count": null,
   "metadata": {
    "trusted": true,
    "_uuid": "0a4cf5bbdd180335500be95f003840bc35f1ca8a"
   },
   "outputs": [],
   "source": [
    "bus.shape"
   ]
  },
  {
   "cell_type": "code",
   "execution_count": null,
   "metadata": {
    "trusted": true,
    "_uuid": "1b7955091f5d25caac3fda3475a181c6afb701c8"
   },
   "outputs": [],
   "source": [
    "res = []\n",
    "for i in range(154606):\n",
    "    if bus['categories'][i] and 'Chinese' in bus['categories'][i] and 'Restaurants' in bus['categories'][i]:\n",
    "        res.append(bus['business_id'][i])\n",
    "len(res)"
   ]
  },
  {
   "cell_type": "code",
   "execution_count": null,
   "metadata": {
    "trusted": true,
    "_uuid": "d34457508a318b6ab4fa30c072a77c523eb032e6"
   },
   "outputs": [],
   "source": [
    "real = train[train['business_id'].isin(res)]"
   ]
  },
  {
   "cell_type": "code",
   "execution_count": null,
   "metadata": {
    "trusted": true
   },
   "outputs": [],
   "source": [
    "for i in range(100,200):\n",
    "    if real['stars'].values[i]==1:\n",
    "        print(i)"
   ]
  },
  {
   "cell_type": "code",
   "execution_count": null,
   "metadata": {
    "trusted": true,
    "_uuid": "9fa2efdcaa18081881e6f339a7dea8621edf118a"
   },
   "outputs": [],
   "source": [
    "i = 186\n",
    "print(real['stars'].values[i])\n",
    "real['text'].values[i]"
   ]
  },
  {
   "cell_type": "code",
   "execution_count": null,
   "metadata": {
    "trusted": true
   },
   "outputs": [],
   "source": [
    ""
   ]
  },
  {
   "cell_type": "code",
   "execution_count": null,
   "metadata": {
    "trusted": true,
    "_uuid": "b3131070c44f55f38819eeba8b592b500ea2fd2d"
   },
   "outputs": [],
   "source": [
    "real.to_csv('real',index=False)"
   ]
  },
  {
   "cell_type": "code",
   "execution_count": null,
   "metadata": {
    "trusted": true,
    "_uuid": "3ddb58a5e141d73b9b42263f00b18c516cb6ff9a"
   },
   "outputs": [],
   "source": [
    "comb = pd.concat([bus,h,c],axis=1)"
   ]
  },
  {
   "cell_type": "code",
   "execution_count": null,
   "metadata": {
    "trusted": true,
    "_uuid": "4c349ed170eb2fda42d87035eb82424216595393"
   },
   "outputs": [],
   "source": [
    "a = pd.merge(train, comb, how='left', on='business_id')"
   ]
  },
  {
   "cell_type": "code",
   "execution_count": null,
   "metadata": {
    "trusted": true,
    "_uuid": "1d08f0f007b79e0df8b9f0aa56dfc427db4728a6"
   },
   "outputs": [],
   "source": [
    "a.head()"
   ]
  },
  {
   "cell_type": "code",
   "execution_count": null,
   "metadata": {
    "trusted": true,
    "_uuid": "e66b9f6befe79c1ac899dbfd8a5fdb6a9bda4253"
   },
   "outputs": [],
   "source": [
    "attr = bus['attributes']\n",
    "num_row = len(attr.values)\n",
    "def two2one(a):\n",
    "    if not a:\n",
    "        return {}\n",
    "    res = dict()\n",
    "    for i in a.keys():\n",
    "        if not '{' in a[i]:\n",
    "            \n",
    "            res[i] = a[i]\n",
    "        else:\n",
    "            temp = re.findall('\\w+-\\w+|\\w+', a[i])\n",
    "            temp_dict = {}\n",
    "            for l in range(0,len(temp),2):\n",
    "                temp_dict[temp[l]] = temp[l+1]\n",
    "            res.update(two2one(temp_dict))\n",
    "    return res\n",
    "import re\n",
    "columns = set()\n",
    "for i in attr.values:\n",
    "    k = two2one(i)\n",
    "    columns.update(k.keys())\n",
    "name = list(columns)\n",
    "num_col = len(name)\n",
    "table = [[1]*num_col for i in range(num_row)]\n",
    "ind = list(attr.index)\n",
    "for i in range(num_row):\n",
    "    for j in range(num_col):\n",
    "        table[i][j] = two2one(attr.values[i]).get(name[j], np.nan)\n",
    "df = pd.DataFrame(table, columns=name,index=ind)\n",
    "\n",
    "\n",
    "def cut(x):\n",
    "    if isinstance(x, str):\n",
    "        return x.strip('\\'u')\n",
    "    return x\n",
    "for num,i in enumerate(name):\n",
    "    df[i] = df[i].apply(cut)\n",
    "    \n",
    "def f(x):\n",
    "    if x=='False':\n",
    "        return 1==2\n",
    "    if x=='True':\n",
    "        return 1==1\n",
    "    return x\n",
    "for num,i in enumerate(name):\n",
    "    df[i] = df[i].apply(f)\n",
    "\n",
    "\n",
    "df.columns"
   ]
  },
  {
   "cell_type": "code",
   "execution_count": null,
   "metadata": {
    "trusted": true,
    "_uuid": "f8e99b355ff37736f1ff3d39ba099736f11be47f"
   },
   "outputs": [],
   "source": [
    "print(df.shape)\n",
    "df.head()"
   ]
  },
  {
   "cell_type": "code",
   "execution_count": null,
   "metadata": {
    "trusted": true,
    "_uuid": "a1a24c9456e59825c1b799f14bad72b0083e5b4a"
   },
   "outputs": [],
   "source": [
    ""
   ]
  },
  {
   "cell_type": "code",
   "execution_count": null,
   "metadata": {
    "trusted": true,
    "_uuid": "f43655953a166368bbc3246432741d2733018100"
   },
   "outputs": [],
   "source": [
    "i = 7\n",
    "print(df.columns[i])\n",
    "df[df.columns[i]].value_counts(dropna=False)"
   ]
  },
  {
   "cell_type": "code",
   "execution_count": null,
   "metadata": {
    "trusted": true,
    "_uuid": "0a52323353dc886e30e94987c3832b50052d5061"
   },
   "outputs": [],
   "source": [
    ""
   ]
  },
  {
   "cell_type": "code",
   "execution_count": null,
   "metadata": {
    "trusted": true,
    "_uuid": "bc0875ce2bccdd763f1bbd9933e62acbc47d7c75"
   },
   "outputs": [],
   "source": [
    "df.shape"
   ]
  },
  {
   "cell_type": "code",
   "execution_count": null,
   "metadata": {
    "trusted": true,
    "_uuid": "29e5ae9971f87d9df97cc78e1799a24d8fd02e66"
   },
   "outputs": [],
   "source": [
    "step1 = pd.concat([bus, df], axis=1)\n",
    "step1 = step1.drop(['attributes'],axis=1)\n",
    "print(len(step1.columns))"
   ]
  },
  {
   "cell_type": "code",
   "execution_count": null,
   "metadata": {
    "trusted": true,
    "_uuid": "eca559e3992f32e8b33cf6da654cf7d18dfdc91a"
   },
   "outputs": [],
   "source": [
    "step1.head()"
   ]
  },
  {
   "cell_type": "code",
   "execution_count": null,
   "metadata": {
    "trusted": true,
    "_uuid": "beee5ddf6340831ea37905e037c1773d6f23dd17"
   },
   "outputs": [],
   "source": [
    "def helper_cat(x):\n",
    "    if not x:\n",
    "        return []\n",
    "    temp = x.strip('\\'').split(',')\n",
    "    return [i.strip() for i in temp]\n",
    "def deal_cat(cat):\n",
    "    name = list(set([j for i in range(num_row) for j in helper_cat(cat.values[i])]))\n",
    "    print(len(name))\n",
    "    num_col = len(name)\n",
    "    table = [[1]*num_col for i in range(num_row)]\n",
    "\n",
    "    for i in range(num_row):\n",
    "        for j in range(num_col):\n",
    "            table[i][j] = True if name[j] in helper_cat(cat.values[i]) else False\n",
    "    df = pd.DataFrame(table, columns=name)\n",
    "    return df"
   ]
  },
  {
   "cell_type": "code",
   "execution_count": null,
   "metadata": {
    "trusted": true,
    "_uuid": "7aad1f8c5ec94cd27f6680788063900f2ec89950"
   },
   "outputs": [],
   "source": [
    "step1['categories'].value_counts()"
   ]
  },
  {
   "cell_type": "code",
   "execution_count": null,
   "metadata": {
    "trusted": true,
    "_uuid": "21fdf19636041fdddc4df78d2609b9e9194e72bc"
   },
   "outputs": [],
   "source": [
    "step2 = pd.concat([step1, deal_cat(step1['categories'])],axis=1)"
   ]
  },
  {
   "cell_type": "code",
   "execution_count": null,
   "metadata": {
    "trusted": true,
    "_uuid": "f7540440d9403e47ac895fd8524175cf5b9bf7e5"
   },
   "outputs": [],
   "source": [
    "from datetime import datetime as dt\n",
    "(dt.strptime('21:30','%H:%M')-dt.strptime('17:30','%H:%M')).total_seconds()/3600"
   ]
  },
  {
   "cell_type": "code",
   "execution_count": null,
   "metadata": {
    "trusted": true,
    "_uuid": "9ff4c95450d883f7ac1ea60b8001b9175c7674a8"
   },
   "outputs": [],
   "source": [
    "tm3=datetime.datetime.strptime(\"2018-01-16 23:44:55\",\"%Y-%m-%d %H:%M:%S\")"
   ]
  },
  {
   "cell_type": "code",
   "execution_count": null,
   "metadata": {
    "trusted": true,
    "_uuid": "a4efcf9812afb9f2d48b6239abc56e401a33af13"
   },
   "outputs": [],
   "source": [
    "step2['hours'].values[0]"
   ]
  },
  {
   "cell_type": "code",
   "execution_count": null,
   "metadata": {
    "trusted": true,
    "_uuid": "e21a5988dfe1b301873e8efaaf5ff7e33d1da22c"
   },
   "outputs": [],
   "source": [
    "def prehelper(x):\n",
    "    x1, x2 = x.split('-')\n",
    "    return (dt.strptime('21:30','%H:%M')-dt.strptime('17:30','%H:%M')).total_seconds()/3600\n",
    "prehelper('17:30-21:30')"
   ]
  },
  {
   "cell_type": "code",
   "execution_count": null,
   "metadata": {
    "trusted": true,
    "_uuid": "7cfdc8cab62ea686ec0c0617e1922944ef9b2f6f"
   },
   "outputs": [],
   "source": [
    "prehelper('7:0-1:0')"
   ]
  },
  {
   "cell_type": "code",
   "execution_count": null,
   "metadata": {
    "trusted": true,
    "_uuid": "d9a6e975241c28e1901d30e2c6659129e3c95c1c"
   },
   "outputs": [],
   "source": [
    "def prehelper(x):\n",
    "    x1, x2 = x.split('-')\n",
    "    res = (dt.strptime(x2,'%H:%M')-dt.strptime(x1,'%H:%M')).total_seconds()/3600\n",
    "    return res if res>0 else 24+res \n",
    "def helper(x):\n",
    "    if not x:\n",
    "        return [np.nan, np.nan, np.nan, np.nan]\n",
    "    weekday = 0\n",
    "    weekend = 0\n",
    "    weekday_hour = 0\n",
    "    weekend_hour = 0\n",
    "    for i in ['Monday', 'Tuesday', 'Wednesday', 'Thursday', 'Friday', 'Saturday', 'Sunday']:\n",
    "        if i in x.keys():\n",
    "            if i in ['Monday', 'Tuesday', 'Wednesday', 'Thursday', 'Friday']:\n",
    "                weekday += 1\n",
    "                weekday_hour += prehelper(x[i])\n",
    "            else:\n",
    "                weekend += 1\n",
    "                weekend_hour += prehelper(x[i])\n",
    "    return [weekday, weekend, weekday_hour, weekend_hour]"
   ]
  },
  {
   "cell_type": "code",
   "execution_count": null,
   "metadata": {
    "trusted": true,
    "_uuid": "413cba177621c43cac662d36d664d2490ff5304e"
   },
   "outputs": [],
   "source": [
    "helper(step2.hours.values[])"
   ]
  },
  {
   "cell_type": "code",
   "execution_count": null,
   "metadata": {
    "trusted": true,
    "_uuid": "67d212ae57273fe28c66701e9205002fec21e27f"
   },
   "outputs": [],
   "source": [
    "def deal_hour(x):\n",
    "    table = [[1]*4 for i in range(num_row)]\n",
    "    for i in range(num_row):\n",
    "        table[i] = helper(x.values[i])\n",
    "    return pd.DataFrame(table, columns=['weekday', 'weekend', 'weekday_hour', 'weekend_hour'])"
   ]
  },
  {
   "cell_type": "code",
   "execution_count": null,
   "metadata": {
    "trusted": true,
    "_uuid": "2416ac30f2c3a6a8ec1ad76784ad3f25cc98354f"
   },
   "outputs": [],
   "source": [
    "df = deal_hour(step2.hours)\n"
   ]
  },
  {
   "cell_type": "code",
   "execution_count": null,
   "metadata": {
    "trusted": true,
    "_uuid": "f32814d475748792f79e9736c1abc8045b8bed0b"
   },
   "outputs": [],
   "source": [
    ""
   ]
  },
  {
   "cell_type": "code",
   "execution_count": null,
   "metadata": {
    "trusted": true,
    "_uuid": "9b49fc9df539682ace49845bed2fccd77c8d84a5"
   },
   "outputs": [],
   "source": [
    ""
   ]
  },
  {
   "cell_type": "code",
   "execution_count": null,
   "metadata": {
    "trusted": true,
    "_uuid": "36a87cb9e624cceb2e5eb470a8f13ec3055e7d49"
   },
   "outputs": [],
   "source": [
    "j.strip() for i in a.values if i for j in i.strip('\\'').split(',') if j"
   ]
  },
  {
   "cell_type": "code",
   "execution_count": null,
   "metadata": {
    "trusted": true,
    "_uuid": "14848c8888ba71e10343f5ec5d389a8090334404"
   },
   "outputs": [],
   "source": [
    ""
   ]
  },
  {
   "cell_type": "code",
   "execution_count": null,
   "metadata": {
    "trusted": true,
    "_uuid": "7633b87e9955c99331c8f0d237e38e3bacfb3cbe"
   },
   "outputs": [],
   "source": [
    ""
   ]
  },
  {
   "cell_type": "code",
   "execution_count": null,
   "metadata": {
    "trusted": true,
    "_uuid": "30be3cd4b37681f5efd4b6865ce0bc95d7fa0c0f"
   },
   "outputs": [],
   "source": [
    "rev = train_rev.__next__()\n",
    "rev.columns"
   ]
  },
  {
   "cell_type": "code",
   "execution_count": null,
   "metadata": {
    "trusted": true,
    "_uuid": "76c0b9ff3fa01d1e8cc27b4b9d6036d16207e466"
   },
   "outputs": [],
   "source": [
    "rev.head()"
   ]
  },
  {
   "cell_type": "code",
   "execution_count": null,
   "metadata": {
    "trusted": true,
    "_uuid": "b789a6f11f48d6ac66fb12390d0bd6045e940955"
   },
   "outputs": [],
   "source": [
    "attr.values[9184]\n",
    "def two2one(a):\n",
    "    if not a:\n",
    "        return {}\n",
    "    res = dict()\n",
    "    for i in a.keys():\n",
    "        if not '{' in a[i]:\n",
    "            \n",
    "            res[i] = a[i]\n",
    "        else:\n",
    "            temp = re.findall('\\w+-\\w+|\\w+', a[i])\n",
    "            temp_dict = {}\n",
    "            for l in range(0,len(temp),2):\n",
    "                print(len(temp))\n",
    "                temp_dict[temp[l]] = temp[l+1]\n",
    "            res.update(two2one(temp_dict))\n",
    "    return res\n",
    "two2one(attr.values[9184])"
   ]
  },
  {
   "cell_type": "code",
   "execution_count": null,
   "metadata": {
    "trusted": true,
    "_uuid": "c772fba7e18c774ab7a22a091dbddb6d2b64c799"
   },
   "outputs": [],
   "source": [
    "attr.values[9184]"
   ]
  },
  {
   "cell_type": "code",
   "execution_count": null,
   "metadata": {
    "trusted": true,
    "_uuid": "7b7f9a1845d6b7d6d213a05b7da310b9fdf7fe46"
   },
   "outputs": [],
   "source": [
    "re.findall('\\w+-\\w+|\\w+', 'a-a')"
   ]
  },
  {
   "cell_type": "code",
   "execution_count": null,
   "metadata": {
    "trusted": true,
    "_uuid": "41361d3aa776c3dad07d1a2012a21e66812d6108"
   },
   "outputs": [],
   "source": [
    ""
   ]
  },
  {
   "cell_type": "code",
   "execution_count": null,
   "metadata": {
    "trusted": true,
    "_uuid": "e529e66f9c73112219c2025d557b9e466936369a"
   },
   "outputs": [],
   "source": [
    "import json as js\n",
    "with open(path_train_bus, 'r') as f:\n",
    "    lines = f.readlines()\n",
    "\n",
    "raw = list(map(js.loads, lines))\n",
    "raw = pd.DataFrame(raw)\n",
    "num_row = raw.shape[0]"
   ]
  },
  {
   "cell_type": "code",
   "execution_count": null,
   "metadata": {
    "trusted": true,
    "_uuid": "bc02c3f9a240135b120425a8edfb199685de25a9"
   },
   "outputs": [],
   "source": [
    "def prehelper(x):\n",
    "    x1, x2 = x.split('-')\n",
    "    res = (dt.strptime(x2,'%H:%M')-dt.strptime(x1,'%H:%M')).total_seconds()/3600\n",
    "    return res if res>0 else 24+res \n",
    "def helper(x):\n",
    "    if not x:\n",
    "        return [np.nan, np.nan, np.nan, np.nan]\n",
    "    weekday = 0\n",
    "    weekend = 0\n",
    "    weekday_hour = 0\n",
    "    weekend_hour = 0\n",
    "    for i in ['Monday', 'Tuesday', 'Wednesday', 'Thursday', 'Friday', 'Saturday', 'Sunday']:\n",
    "        if i in x.keys():\n",
    "            if i in ['Monday', 'Tuesday', 'Wednesday', 'Thursday', 'Friday']:\n",
    "                weekday += 1\n",
    "                weekday_hour += prehelper(x[i])\n",
    "            else:\n",
    "                weekend += 1\n",
    "                weekend_hour += prehelper(x[i])\n",
    "    return [weekday, weekend, weekday_hour, weekend_hour]\n"
   ]
  },
  {
   "cell_type": "code",
   "execution_count": null,
   "metadata": {
    "trusted": true,
    "_uuid": "8c2bf35562045678b69adefc1d0c58596357b2eb"
   },
   "outputs": [],
   "source": [
    "def deal_hour(x):\n",
    "    table = [[1]*4 for i in range(num_row)]\n",
    "    for i in range(num_row):\n",
    "        table[i] = helper(x.values[i])\n",
    "    return pd.DataFrame(table, columns=['weekday', 'weekend', 'weekday_hour', 'weekend_hour'])"
   ]
  },
  {
   "cell_type": "code",
   "execution_count": null,
   "metadata": {
    "trusted": true,
    "_uuid": "ed5f1195fd7148ae3ac8a429f9fe31d656ea340a"
   },
   "outputs": [],
   "source": [
    "df = deal_hour(raw.hours)\n",
    "final = pd.concat([df,raw[['business_id']]],axis=1)"
   ]
  },
  {
   "cell_type": "code",
   "execution_count": null,
   "metadata": {
    "trusted": true,
    "_uuid": "5ab5a6cb9818ad0e78b08a97c5509a4b2e8105bb"
   },
   "outputs": [],
   "source": [
    "final.to_csv('submit.csv', index=False)"
   ]
  },
  {
   "cell_type": "code",
   "execution_count": null,
   "metadata": {
    "trusted": true,
    "_uuid": "a5cde35b7511c4d4a9b112ddf585eadaef826319"
   },
   "outputs": [],
   "source": [
    "raw.columns"
   ]
  },
  {
   "cell_type": "code",
   "execution_count": null,
   "metadata": {
    "trusted": true,
    "_uuid": "be90f1c43297a400168315a01417863e48498769"
   },
   "outputs": [],
   "source": [
    "pd.DataFrame?"
   ]
  },
  {
   "cell_type": "code",
   "execution_count": null,
   "metadata": {
    "trusted": true,
    "_uuid": "4cb7b42ae3892d836afb55e51896d95281ece4bf"
   },
   "outputs": [],
   "source": [
    "pd.\"DataFrame.value_counts"
   ]
  },
  {
   "cell_type": "code",
   "execution_count": null,
   "metadata": {
    "trusted": true,
    "_uuid": "273f5ce18951c3c6100f7e149bc280ad992dee76"
   },
   "outputs": [],
   "source": [
    "str(a)"
   ]
  },
  {
   "cell_type": "code",
   "execution_count": null,
   "metadata": {
    "trusted": true
   },
   "outputs": [],
   "source": [
    "from sklearn import preprocessing\n",
    "lb = preprocessing.LabelEncoder()\n",
    "for i in bb.columns:\n",
    "    bb[i] = lb.fit_transform(bb[i].astype(str))\n",
    "import lightgbm as lgb\n",
    "import pandas as pd\n",
    "import pickle\n",
    "from sklearn import model_selection\n",
    "import matplotlib.pyplot as plt\n",
    "\n",
    "\n",
    "\n",
    "def run_lgb(train_X, train_y, val_X, val_y):\n",
    "    params = {\n",
    "        \"objective\": \"regression\",\n",
    "        \"metric\": \"rmse\",\n",
    "        \"num_leaves\": 30,\n",
    "        \"min_child_weight\": 50,\n",
    "        \"learning_rate\": 0.05,\n",
    "        \"bagging_fraction\": 0.7,\n",
    "        \"feature_fraction\": 0.7,\n",
    "        \"bagging_frequency\": 5,\n",
    "        \"bagging_seed\": 2018,\n",
    "        \"verbosity\": -1\n",
    "    }\n",
    "\n",
    "    lgtrain = lgb.Dataset(train_X, label=train_y)\n",
    "    lgval = lgb.Dataset(val_X, label=val_y)\n",
    "    evals_result = {}\n",
    "    model = lgb.train(params, lgtrain, 1000, valid_sets=[lgval], early_stopping_rounds=100, verbose_eval=100,\n",
    "                      evals_result=evals_result)\n",
    "\n",
    "    # pred_test_y = model.predict(test_X, num_iteration=model.best_iteration)\n",
    "    return model, evals_result\n",
    "#%%\n",
    "\n",
    "train_X = bb\n",
    "train_y = y\n",
    "\n",
    "kf = model_selection.KFold(n_splits=5, random_state=2018, shuffle=True)\n",
    "for dev_index, val_index in kf.split(train_X):\n",
    "    dev_X, val_X = train_X.iloc[dev_index, :], train_X.iloc[val_index, :]\n",
    "    dev_y, val_y = train_y.iloc[dev_index], train_y.iloc[val_index]\n",
    "\n",
    "    model, evals_result = run_lgb(dev_X, dev_y, val_X, val_y)\n",
    "#%%\n",
    "fig, ax = plt.subplots(figsize=(12,10))\n",
    "lgb.plot_importance(model, max_num_features=50, height=0.8, ax=ax)\n",
    "ax.grid(False)\n",
    "plt.title(\"LightGBM - Feature Importance\", fontsize=15)\n"
   ]
  }
 ],
 "metadata": {
  "kernelspec": {
   "display_name": "Python 3",
   "language": "python",
   "name": "python3"
  },
  "language_info": {
   "name": "python",
   "version": "3.6.6",
   "mimetype": "text/x-python",
   "codemirror_mode": {
    "name": "ipython",
    "version": 3
   },
   "pygments_lexer": "ipython3",
   "nbconvert_exporter": "python",
   "file_extension": ".py"
  }
 },
 "nbformat": 4,
 "nbformat_minor": 1
}
